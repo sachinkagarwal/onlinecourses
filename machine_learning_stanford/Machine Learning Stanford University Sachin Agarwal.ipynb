{
 "metadata": {
  "name": "",
  "signature": "sha256:5de1d461d8034bf1fee9a58374c88c203c12ddc92225a3cee749fab5280b70cf"
 },
 "nbformat": 3,
 "nbformat_minor": 0,
 "worksheets": [
  {
   "cells": [
    {
     "cell_type": "heading",
     "level": 1,
     "metadata": {},
     "source": [
      "Machine Learning @ Stanford via Coursera\n"
     ]
    },
    {
     "cell_type": "markdown",
     "metadata": {},
     "source": [
      "These are notes I made while taking the Machine Learning class offered via Coursera between Jan-Apr 2015.\n",
      "\n",
      "The instructor was Prof. Andrew Ng. \n"
     ]
    },
    {
     "cell_type": "heading",
     "level": 2,
     "metadata": {},
     "source": [
      "Supporting Information and Material "
     ]
    },
    {
     "cell_type": "markdown",
     "metadata": {},
     "source": [
      "\n",
      "Link to Coursera's website: https://www.coursera.org/course/ml\n",
      "This is where you can get basic information and register for the course.\n",
      "\n",
      "Link to Stanford University's CS229 page: http://cs229.stanford.edu/ \n",
      "This is the ML course at Stanford University. Taught by the same professor. It may contain some additional material (will update on this as the online course progresses)"
     ]
    },
    {
     "cell_type": "code",
     "collapsed": false,
     "input": [],
     "language": "python",
     "metadata": {},
     "outputs": []
    }
   ],
   "metadata": {}
  }
 ]
}